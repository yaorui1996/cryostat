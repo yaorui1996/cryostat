{
 "cells": [
  {
   "cell_type": "code",
   "execution_count": 3,
   "metadata": {},
   "outputs": [],
   "source": [
    "from datetime import datetime\n",
    "import numpy as np\n",
    "\n",
    "\n",
    "def slice_data(raw_file: str, export_file: str, t1: str = None, t2: str = None):\n",
    "    data = np.genfromtxt(raw_file, delimiter=',', dtype=str)\n",
    "    if data.ndim == 1:\n",
    "        data = data.reshape((data.shape[0], 1))\n",
    "    data0 = data[0:1, :]\n",
    "    data1 = data[1:, :]\n",
    "    if t1:\n",
    "        data1 = data1[data1[:, 0].astype(np.datetime64) >= np.datetime64(t1)]\n",
    "    if t2:\n",
    "        data1 = data1[data1[:, 0].astype(np.datetime64) <= np.datetime64(t2)]\n",
    "    np.savetxt(export_file, np.concatenate((data0, data1), axis=0), delimiter=',', fmt='%s')\n",
    "    "
   ]
  },
  {
   "cell_type": "code",
   "execution_count": 4,
   "metadata": {},
   "outputs": [],
   "source": [
    "files = ['_data_plc.csv', '_data_tc290.csv', '_data_xgs600.csv']\n",
    "t1='2025-05-22 09'\n",
    "t2='2025-05-22 14'\n",
    "\n",
    "for raw_file in files:\n",
    "    slice_data(raw_file=raw_file, export_file=rf'({t1} -- {t2}) {raw_file}'.replace(':', '-'), t1=t1, t2=t2)"
   ]
  },
  {
   "cell_type": "code",
   "execution_count": null,
   "metadata": {},
   "outputs": [],
   "source": []
  }
 ],
 "metadata": {
  "kernelspec": {
   "display_name": "cryostat",
   "language": "python",
   "name": "python3"
  },
  "language_info": {
   "codemirror_mode": {
    "name": "ipython",
    "version": 3
   },
   "file_extension": ".py",
   "mimetype": "text/x-python",
   "name": "python",
   "nbconvert_exporter": "python",
   "pygments_lexer": "ipython3",
   "version": "3.11.11"
  }
 },
 "nbformat": 4,
 "nbformat_minor": 2
}
